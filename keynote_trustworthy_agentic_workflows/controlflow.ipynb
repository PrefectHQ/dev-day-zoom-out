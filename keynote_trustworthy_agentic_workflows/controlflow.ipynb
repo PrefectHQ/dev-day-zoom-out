{
 "cells": [
  {
   "cell_type": "markdown",
   "metadata": {},
   "source": [
    "# ControlFlow Demo\n",
    "\n",
    "Let's explore ControlFlow by building up from basic concepts to more complex workflows.\n",
    "\n",
    "## Basic Tasks with cf.run()\n",
    "\n",
    "The simplest way to use ControlFlow is with `cf.run()`. Let's start with the most basic example:"
   ]
  },
  {
   "cell_type": "code",
   "execution_count": null,
   "metadata": {},
   "outputs": [],
   "source": [
    "import controlflow as cf\n",
    "\n",
    "result = cf.run(\"Say hi!\")\n"
   ]
  },
  {
   "cell_type": "code",
   "execution_count": null,
   "metadata": {},
   "outputs": [],
   "source": [
    "\n",
    "print(f\"\\nThe agent said: {result}\")"
   ]
  },
  {
   "cell_type": "markdown",
   "metadata": {},
   "source": [
    "### Result Types\n",
    "\n",
    "We can ensure we get exactly what we need using different result types:"
   ]
  },
  {
   "cell_type": "code",
   "execution_count": null,
   "metadata": {},
   "outputs": [],
   "source": [
    "# Simple integer\n",
    "number = cf.run(\n",
    "    \"Pick a number between 1 and 10\",\n",
    "    result_type=int\n",
    ")\n",
    "\n",
    "print(f\"\\nGot back: {number} (type: {type(number)})\")"
   ]
  },
  {
   "cell_type": "code",
   "execution_count": null,
   "metadata": {},
   "outputs": [],
   "source": [
    "from pydantic import BaseModel\n",
    "\n",
    "# Structured data with Pydantic\n",
    "class MovieReview(BaseModel):\n",
    "    title: str\n",
    "    rating: int  # 1-5 stars\n",
    "    summary: str\n",
    "    watch_again: bool\n",
    "\n",
    "review = cf.run(\n",
    "    \"Review the latest movie you watched (I, Robot)\",\n",
    "    result_type=MovieReview\n",
    ")\n"
   ]
  },
  {
   "cell_type": "code",
   "execution_count": null,
   "metadata": {},
   "outputs": [],
   "source": [
    "\n",
    "print(f\"\\nMovie Review:\")\n",
    "print(f\"Title: {review.title}\")\n",
    "print(f\"Rating: {'⭐' * review.rating}\")\n",
    "print(f\"Summary: {review.summary}\")\n",
    "print(f\"Would watch again? {'Yes!' if review.watch_again else 'No'}\")"
   ]
  },
  {
   "cell_type": "markdown",
   "metadata": {},
   "source": [
    "### Classification\n",
    "\n",
    "We can have agents classify content by providing valid options:"
   ]
  },
  {
   "cell_type": "code",
   "execution_count": null,
   "metadata": {},
   "outputs": [],
   "source": [
    "# Classify news headlines by topic\n",
    "headlines = [\n",
    "    \"Tech Giant Unveils Revolutionary AI Chip\",\n",
    "    \"Scientists Discover New Species in Amazon\",\n",
    "    \"Global Markets Rally on Economic Data\",\n",
    "]\n",
    "\n",
    "CATEGORIES = [\"Technology\", \"Science\", \"Business\", \"Politics\", \"Sports\"]\n",
    "\n",
    "classifications = []\n",
    "\n",
    "for headline in headlines:\n",
    "    \n",
    "    category = cf.run(\n",
    "        f\"Classify this headline into exactly one category\",\n",
    "        context={\"headline\": headlines},\n",
    "        result_type=list[CATEGORIES]\n",
    "    )\n",
    "    classifications.append((headline, category))\n"
   ]
  },
  {
   "cell_type": "code",
   "execution_count": null,
   "metadata": {},
   "outputs": [],
   "source": [
    "\n",
    "print(\"\\nClassified Headlines:\")\n",
    "for headline, category in classifications:\n",
    "    print(f\"📰 {headline}\")\n",
    "    print(f\"   Category: {category}\\n\")"
   ]
  },
  {
   "cell_type": "markdown",
   "metadata": {},
   "source": [
    "### Interactive Tasks\n",
    "\n",
    "Agents can interact with users to gather information:"
   ]
  },
  {
   "cell_type": "code",
   "execution_count": null,
   "metadata": {},
   "outputs": [],
   "source": [
    "from pydantic import BaseModel\n",
    "\n",
    "class UserInfo(BaseModel):\n",
    "    name: str\n",
    "    age: int\n",
    "    favorite_color: str\n",
    "\n",
    "info = cf.run(\n",
    "    \"Have a friendly chat with the user to learn their name, age, and favorite color\",\n",
    "    interactive=True,\n",
    "    result_type=UserInfo\n",
    ")\n"
   ]
  },
  {
   "cell_type": "code",
   "execution_count": null,
   "metadata": {},
   "outputs": [],
   "source": [
    "\n",
    "print(f\"\\nNice to meet you!\")\n",
    "print(f\"Name: {info.name}\")\n",
    "print(f\"Age: {info.age}\")\n",
    "print(f\"Favorite color: {info.favorite_color}\")"
   ]
  },
  {
   "cell_type": "markdown",
   "metadata": {},
   "source": [
    "## Tools\n",
    "\n",
    "Agents can use tools to extend their capabilities. Let's start with a simple random number generator:"
   ]
  },
  {
   "cell_type": "code",
   "execution_count": null,
   "metadata": {},
   "outputs": [],
   "source": [
    "import random\n",
    "\n",
    "def roll_die() -> int:\n",
    "    \"\"\"Roll a six-sided die and return the result.\"\"\"\n",
    "    return random.randint(1, 6)\n",
    "\n",
    "result = cf.run(\n",
    "    \"Roll the die three times, and after each roll write a poem with that many lines\",\n",
    "    tools=[roll_die],\n",
    "    result_type=list[int]\n",
    ")\n"
   ]
  },
  {
   "cell_type": "code",
   "execution_count": null,
   "metadata": {},
   "outputs": [],
   "source": [
    "\n",
    "print(f\"\\nRolled a {result}\")"
   ]
  },
  {
   "cell_type": "markdown",
   "metadata": {},
   "source": [
    "## Using Context\n",
    "\n",
    "Context lets you provide additional information to help agents make decisions:"
   ]
  },
  {
   "cell_type": "code",
   "execution_count": null,
   "metadata": {},
   "outputs": [],
   "source": [
    "def analyze_customer_feedback(feedback: str, product_type: str = None) -> str:\n",
    "    \"\"\"Analyze customer feedback with optional product context.\"\"\"\n",
    "    analysis = cf.run(\n",
    "        \"Analyze this customer feedback and determine if it's positive, negative, or neutral\",\n",
    "        context={\n",
    "            \"feedback\": feedback,\n",
    "            \"product_type\": product_type,\n",
    "            \"company_tone\": \"We aim for constructive, actionable insights\"\n",
    "        },\n",
    "        result_type=[\"positive\", \"negative\", \"neutral\"]\n",
    "    )\n",
    "    return analysis\n",
    "\n",
    "# Example usage\n",
    "feedback_1 = \"This app crashes constantly! But at least the UI is pretty.\"\n",
    "result_1 = analyze_customer_feedback(feedback_1, product_type=\"mobile app\")\n",
    "\n",
    "feedback_2 = \"The new features are exactly what I needed!\"\n",
    "result_2 = analyze_customer_feedback(feedback_2, product_type=\"web service\")\n",
    "\n",
    "print(\"\\nFeedback Analysis:\")\n",
    "print(f\"1. \\\"{feedback_1}\\\"\")\n",
    "print(f\"   Result: {result_1}\")\n",
    "print(f\"\\n2. \\\"{feedback_2}\\\"\")\n",
    "print(f\"   Result: {result_2}\")"
   ]
  },
  {
   "cell_type": "markdown",
   "metadata": {},
   "source": [
    "## Tasks\n",
    "\n",
    "While `cf.run()` is convenient, the `Task` class gives you more control:"
   ]
  },
  {
   "cell_type": "code",
   "execution_count": null,
   "metadata": {},
   "outputs": [],
   "source": [
    "class Recipe(BaseModel):\n",
    "    name: str\n",
    "    ingredients: list[str]\n",
    "    steps: list[str]\n",
    "    prep_time: str\n",
    "    difficulty: str\n",
    "\n",
    "# Create the task\n",
    "recipe_task = cf.Task(\n",
    "    \"Create a recipe for a quick and easy pasta dish\",\n",
    "    result_type=Recipe\n",
    ")\n",
    "\n",
    "# Run it\n",
    "result = recipe_task.run()\n",
    "\n",
    "print(f\"\\n🍝 {result.name}\")\n",
    "print(f\"Difficulty: {result.difficulty}\")\n",
    "print(f\"Prep time: {result.prep_time}\")\n",
    "print(\"\\nIngredients:\")\n",
    "for item in result.ingredients:\n",
    "    print(f\"- {item}\")\n",
    "print(\"\\nSteps:\")\n",
    "for i, step in enumerate(result.steps, 1):\n",
    "    print(f\"{i}. {step}\")"
   ]
  },
  {
   "cell_type": "code",
   "execution_count": null,
   "metadata": {},
   "outputs": [],
   "source": [
    "from pydantic import Field, BaseModel\n",
    "\n",
    "class TravelPlan(BaseModel):\n",
    "    destination: str\n",
    "    duration_days: int = Field(ge=1, le=30)  # Between 1 and 30 days\n",
    "    budget_per_day: float = Field(ge=50)     # At least $50/day\n",
    "    activities: list[str] = Field(min_length=2, max_length=5)\n",
    "\n",
    "travel_task = cf.Task(\n",
    "    \"Plan a fun weekend getaway\",\n",
    "    result_type=TravelPlan\n",
    ")\n",
    "\n",
    "plan = travel_task.run()\n",
    "\n",
    "print(f\"\\n✈️ Travel Plan\")\n",
    "print(f\"Destination: {plan.destination}\")\n",
    "print(f\"Duration: {plan.duration_days} days\")\n",
    "print(f\"Daily Budget: ${plan.budget_per_day:,.2f}\")\n",
    "print(\"\\nActivities:\")\n",
    "for activity in plan.activities:\n",
    "    print(f\"- {activity}\")"
   ]
  },
  {
   "cell_type": "markdown",
   "metadata": {},
   "source": [
    "### Task State\n",
    "\n",
    "Tasks are like contracts between you and the agent. Control is yielded to the agent for as long as the task remains incomplete."
   ]
  },
  {
   "cell_type": "code",
   "execution_count": null,
   "metadata": {},
   "outputs": [],
   "source": [
    "task = cf.Task(\n",
    "    \"Use the `weather` tool to get the weather in San Francisco\",\n",
    ")\n",
    "\n",
    "task.run()"
   ]
  },
  {
   "cell_type": "code",
   "execution_count": null,
   "metadata": {},
   "outputs": [],
   "source": [
    "print(task.status)\n",
    "print(task.result)"
   ]
  },
  {
   "cell_type": "markdown",
   "metadata": {},
   "source": [
    "## Flow and History\n",
    "\n",
    "By default, each task runs independently. Let's see what happens when we try to reference a previous result:"
   ]
  },
  {
   "cell_type": "code",
   "execution_count": null,
   "metadata": {},
   "outputs": [],
   "source": [
    "# Without Flow - no history\n",
    "dice_roll = cf.run(\n",
    "    \"Roll a die and tell me what you got\",\n",
    "    tools=[roll_die],\n",
    "    result_type=int\n",
    ")\n",
    "\n",
    "print(f\"\\nRolled: {dice_roll}\")\n",
    "\n",
    "# Try to reference the previous roll (this won't work!)\n",
    "sum_result = cf.run(\n",
    "    \"Add 100 to the previous roll\",\n",
    "    result_type=int\n",
    ")\n",
    "\n",
    "print(f\"\\nResult (incorrect): {sum_result}\")"
   ]
  },
  {
   "cell_type": "markdown",
   "metadata": {},
   "source": [
    "Now let's use a Flow to maintain history between tasks:"
   ]
  },
  {
   "cell_type": "code",
   "execution_count": null,
   "metadata": {},
   "outputs": [],
   "source": [
    "with cf.Flow() as flow:\n",
    "    # First roll\n",
    "    dice_roll = cf.run(\n",
    "        \"Roll a die and tell me what you got\",\n",
    "        tools=[roll_die],\n",
    "        result_type=int\n",
    "    )\n",
    "    \n",
    "    print(f\"\\nRolled: {dice_roll}\")\n",
    "    \n",
    "    # Now the agent can remember the previous roll\n",
    "    sum_result = cf.run(\n",
    "        \"Add 100 to the previous roll\",\n",
    "        result_type=int\n",
    "    )\n",
    "    \n",
    "    print(f\"\\nResult (correct): {sum_result}\")"
   ]
  },
  {
   "cell_type": "markdown",
   "metadata": {},
   "source": [
    "## Memory\n",
    "\n",
    "For persistence across different flows, we can use memory:"
   ]
  },
  {
   "cell_type": "code",
   "execution_count": null,
   "metadata": {},
   "outputs": [],
   "source": [
    "# Create a memory for user preferences\n",
    "preferences = cf.Memory(\n",
    "    key=\"pizza_preferences\",\n",
    "    instructions=\"Store and recall information about pizza preferences\"\n",
    ")\n",
    "\n",
    "# First interaction - learn preferences\n",
    "with cf.Flow() as flow:\n",
    "    cf.run(\n",
    "        \"Ask the user about their ideal pizza toppings\",\n",
    "        memories=[preferences],\n",
    "        interactive=True\n",
    "    )\n",
    "\n",
    "print(\"\\n(Let's pretend some time has passed...)\\n\")\n",
    "\n",
    "# Second interaction - use those preferences\n",
    "with cf.Flow() as flow:\n",
    "    suggestion = cf.run(\n",
    "        \"Suggest a pizza order based on what you remember about their preferences\",\n",
    "        memories=[preferences],\n",
    "        result_type=str\n",
    "    )\n",
    "    \n",
    "    print(f\"\\nSuggested order: {suggestion}\")"
   ]
  },
  {
   "cell_type": "markdown",
   "metadata": {},
   "source": [
    "## Instructions\n",
    "\n",
    "We can provide temporary guidance to agents:"
   ]
  },
  {
   "cell_type": "code",
   "execution_count": null,
   "metadata": {},
   "outputs": [],
   "source": [
    "# Normal response\n",
    "result = cf.run(\"In two sentences, explain quantum physics.\")\n",
    "\n",
    "print(result)\n",
    "\n"
   ]
  },
  {
   "cell_type": "code",
   "execution_count": null,
   "metadata": {},
   "outputs": [],
   "source": [
    "# Now with pirate instructions\n",
    "with cf.instructions(\"Talk like a pirate\"):\n",
    "    result = cf.run(\"In two sentences, explain quantum physics.\")\n",
    "    \n",
    "    print(result)"
   ]
  },
  {
   "cell_type": "code",
   "execution_count": null,
   "metadata": {},
   "outputs": [],
   "source": [
    "\n",
    "# And with poet instructions\n",
    "with cf.instructions(\"ELI5\"):\n",
    "    result = cf.run(\"In two sentences, explain quantum physics.\")\n",
    "    \n",
    "    print(result)"
   ]
  },
  {
   "cell_type": "markdown",
   "metadata": {},
   "source": [
    "## Multi-Agent Collaboration\n",
    "\n",
    "Different agents can work together, each bringing their own perspective:"
   ]
  },
  {
   "cell_type": "code",
   "execution_count": null,
   "metadata": {},
   "outputs": [],
   "source": [
    "# Create agents with different perspectives\n",
    "optimist = cf.Agent(\n",
    "    name=\"Optimist\",\n",
    "    instructions=\"You always look for positive aspects and opportunities in any situation.\"\n",
    ")\n",
    "\n",
    "critic = cf.Agent(\n",
    "    name=\"Critic\",\n",
    "    instructions=\"You carefully identify potential issues and areas for improvement.\"\n",
    ")\n",
    "\n",
    "mediator = cf.Agent(\n",
    "    name=\"Mediator\",\n",
    "    instructions=\"You balance different perspectives and find practical solutions.\"\n",
    ")\n",
    "\n",
    "with cf.Flow() as flow:\n",
    "    # First get different perspectives\n",
    "    cf.run(\n",
    "        \"Evaluate this new product idea: A smart coffee mug that maintains your drink at the perfect temperature and tracks your caffeine intake\",\n",
    "        agents=[optimist, critic]\n",
    "    )\n",
    "    \n",
    "    # Then have the mediator summarize\n",
    "    summary = cf.run(\n",
    "        \"Based on the discussion, provide a balanced assessment and recommendation\",\n",
    "        agents=[mediator],\n",
    "        result_type=str\n",
    "    )\n",
    "    \n",
    "    print(f\"\\nFinal Assessment: {summary}\")"
   ]
  },
  {
   "cell_type": "markdown",
   "metadata": {},
   "source": [
    "## Let's Play a Game!\n",
    "\n",
    "Let's combine everything we've learned into a game of rock, paper, scissors:"
   ]
  },
  {
   "cell_type": "code",
   "execution_count": null,
   "metadata": {},
   "outputs": [],
   "source": [
    "# Create a memory for game stats\n",
    "game_memory = cf.Memory(\n",
    "    key=\"rps_stats\",\n",
    "    instructions=\"Track rock, paper, scissors game statistics\"\n",
    ")\n",
    "\n",
    "with cf.Flow() as game:\n",
    "    # Get the user's choice first\n",
    "    user_choice = cf.run(\n",
    "        \"Ask the user to choose rock, paper, or scissors\",\n",
    "        interactive=True,\n",
    "        result_type=[\"rock\", \"paper\", \"scissors\"]\n",
    "    )\n",
    "    \n",
    "    print(\"\\n---\\n\")\n",
    "    \n",
    "    # Now get AI's choice (in a new flow to avoid seeing user's choice)\n",
    "    with cf.Flow():\n",
    "        ai_choice = cf.run(\n",
    "            \"Choose rock, paper, or scissors\",\n",
    "            result_type=[\"rock\", \"paper\", \"scissors\"]\n",
    "        )\n",
    "    \n",
    "    # Add some excitement with instructions\n",
    "    with cf.instructions(\"Be an enthusiastic game show host\"):\n",
    "        cf.run(\n",
    "            \"Announce both choices and declare the winner!\",\n",
    "            memories=[game_memory],\n",
    "            context={\"ai_choice\": ai_choice, \"user_choice\": user_choice}\n",
    "        )"
   ]
  },
  {
   "cell_type": "code",
   "execution_count": null,
   "metadata": {},
   "outputs": [],
   "source": []
  }
 ],
 "metadata": {
  "kernelspec": {
   "display_name": "Python 3 (ipykernel)",
   "language": "python",
   "name": "python3"
  },
  "language_info": {
   "codemirror_mode": {
    "name": "ipython",
    "version": 3
   },
   "file_extension": ".py",
   "mimetype": "text/x-python",
   "name": "python",
   "nbconvert_exporter": "python",
   "pygments_lexer": "ipython3",
   "version": "3.12.2"
  }
 },
 "nbformat": 4,
 "nbformat_minor": 4
}
